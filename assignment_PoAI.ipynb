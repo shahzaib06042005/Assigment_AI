{
  "nbformat": 4,
  "nbformat_minor": 0,
  "metadata": {
    "colab": {
      "provenance": []
    },
    "kernelspec": {
      "name": "python3",
      "display_name": "Python 3"
    },
    "language_info": {
      "name": "python"
    }
  },
  "cells": [
    {
      "cell_type": "code",
      "execution_count": 37,
      "metadata": {
        "id": "S59Kwt5rYHsh"
      },
      "outputs": [],
      "source": [
        "import pandas as pd\n",
        "import scipy\n",
        "import matplotlib.pyplot as plt\n",
        "from scipy.stats import zscore\n",
        "from scipy.stats import chi2_contingency\n",
        "\n"
      ]
    },
    {
      "cell_type": "markdown",
      "source": [
        "# QUESTION 1"
      ],
      "metadata": {
        "id": "AihyEmPFi8Oa"
      }
    },
    {
      "cell_type": "markdown",
      "source": [
        "## USING IQR METHOD"
      ],
      "metadata": {
        "id": "44BmYSlOcEf3"
      }
    },
    {
      "cell_type": "code",
      "source": [
        "pd.read_csv(\"patient_data.csv\")\n",
        "df = pd.read_csv(\"patient_data.csv\")"
      ],
      "metadata": {
        "id": "v11524z9YdbR"
      },
      "execution_count": 38,
      "outputs": []
    },
    {
      "cell_type": "code",
      "source": [
        "plt.boxplot(df['BloodPressure'])\n",
        "plt.show()"
      ],
      "metadata": {
        "colab": {
          "base_uri": "https://localhost:8080/",
          "height": 430
        },
        "id": "H0R0nokSczTx",
        "outputId": "dd43b8a2-fd5d-4c6f-c136-bdc7fb13db1d"
      },
      "execution_count": 39,
      "outputs": [
        {
          "output_type": "display_data",
          "data": {
            "text/plain": [
              "<Figure size 640x480 with 1 Axes>"
            ],
            "image/png": "[encoded data removed]"
          },
          "metadata": {}
        }
      ]
    },
    {
      "cell_type": "code",
      "source": [
        "#count total rows\n",
        "df.count()\n",
        "# sorting according to BloodPressure\n",
        "df = df.sort_values(by=['BloodPressure'])"
      ],
      "metadata": {
        "id": "5M9VfjXQdnkd"
      },
      "execution_count": 40,
      "outputs": []
    },
    {
      "cell_type": "code",
      "source": [
        "Q1 = df['BloodPressure'].quantile(0.25)\n",
        "Q3 = df['BloodPressure'].quantile(0.75)\n",
        "IQR = Q3 - Q1\n",
        "\n",
        "\n",
        "lower_bound = Q1 - 1.5 * IQR\n",
        "upper_bound = Q3 + 1.5 * IQR\n",
        "print(lower_bound)\n",
        "print(upper_bound)"
      ],
      "metadata": {
        "colab": {
          "base_uri": "https://localhost:8080/"
        },
        "id": "l86JGPnAdUGb",
        "outputId": "d9fbdf5c-7f17-43d5-81dd-a98b106604b2"
      },
      "execution_count": 41,
      "outputs": [
        {
          "output_type": "stream",
          "name": "stdout",
          "text": [
            "77.7625\n",
            "160.66249999999997\n"
          ]
        }
      ]
    },
    {
      "cell_type": "code",
      "source": [
        "#print  outliers\n",
        "df[(df['BloodPressure'] < lower_bound) | (df['BloodPressure'] > upper_bound)]"
      ],
      "metadata": {
        "colab": {
          "base_uri": "https://localhost:8080/",
          "height": 112
        },
        "id": "3PdvzpfDduhL",
        "outputId": "3c873421-12cd-4e91-dc1b-ca7743150807"
      },
      "execution_count": 42,
      "outputs": [
        {
          "output_type": "execute_result",
          "data": {
            "text/plain": [
              "    PatientID  Gender  Age  CholesterolLevel  BloodPressure Region  \\\n",
              "82         83    Male   74             234.8           71.4  North   \n",
              "29         30  Female   60             197.8          177.8  South   \n",
              "\n",
              "   RiskCategory  \n",
              "82       Medium  \n",
              "29         High  "
            ],
            "text/html": [
              "\n",
              "  <div id=\"df-35df8eec-a8d0-4f71-b52e-fc4aaa6bd0af\" class=\"colab-df-container\">\n",
              "    <div>\n",
              "<style scoped>\n",
              "    .dataframe tbody tr th:only-of-type {\n",
              "        vertical-align: middle;\n",
              "    }\n",
              "\n",
              "    .dataframe tbody tr th {\n",
              "        vertical-align: top;\n",
              "    }\n",
              "\n",
              "    .dataframe thead th {\n",
              "        text-align: right;\n",
              "    }\n",
              "</style>\n",
              "<table border=\"1\" class=\"dataframe\">\n",
              "  <thead>\n",
              "    <tr style=\"text-align: right;\">\n",
              "      <th></th>\n",
              "      <th>PatientID</th>\n",
              "      <th>Gender</th>\n",
              "      <th>Age</th>\n",
              "      <th>CholesterolLevel</th>\n",
              "      <th>BloodPressure</th>\n",
              "      <th>Region</th>\n",
              "      <th>RiskCategory</th>\n",
              "    </tr>\n",
              "  </thead>\n",
              "  <tbody>\n",
              "    <tr>\n",
              "      <th>82</th>\n",
              "      <td>83</td>\n",
              "      <td>Male</td>\n",
              "      <td>74</td>\n",
              "      <td>234.8</td>\n",
              "      <td>71.4</td>\n",
              "      <td>North</td>\n",
              "      <td>Medium</td>\n",
              "    </tr>\n",
              "    <tr>\n",
              "      <th>29</th>\n",
              "      <td>30</td>\n",
              "      <td>Female</td>\n",
              "      <td>60</td>\n",
              "      <td>197.8</td>\n",
              "      <td>177.8</td>\n",
              "      <td>South</td>\n",
              "      <td>High</td>\n",
              "    </tr>\n",
              "  </tbody>\n",
              "</table>\n",
              "</div>\n",
              "    <div class=\"colab-df-buttons\">\n",
              "\n",
              "  <div class=\"colab-df-container\">\n",
              "    <button class=\"colab-df-convert\" onclick=\"convertToInteractive('df-35df8eec-a8d0-4f71-b52e-fc4aaa6bd0af')\"\n",
              "            title=\"Convert this dataframe to an interactive table.\"\n",
              "            style=\"display:none;\">\n",
              "\n",
              "  <svg xmlns=\"http://www.w3.org/2000/svg\" height=\"24px\" viewBox=\"0 -960 960 960\">\n",
              "    <path d=\"M120-120v-720h720v720H120Zm60-500h600v-160H180v160Zm220 220h160v-160H400v160Zm0 220h160v-160H400v160ZM180-400h160v-160H180v160Zm440 0h160v-160H620v160ZM180-180h160v-160H180v160Zm440 0h160v-160H620v160Z\"/>\n",
              "  </svg>\n",
              "    </button>\n",
              "\n",
              "  <style>\n",
              "    .colab-df-container {\n",
              "      display:flex;\n",
              "      gap: 12px;\n",
              "    }\n",
              "\n",
              "    .colab-df-convert {\n",
              "      background-color: #E8F0FE;\n",
              "      border: none;\n",
              "      border-radius: 50%;\n",
              "      cursor: pointer;\n",
              "      display: none;\n",
              "      fill: #1967D2;\n",
              "      height: 32px;\n",
              "      padding: 0 0 0 0;\n",
              "      width: 32px;\n",
              "    }\n",
              "\n",
              "    .colab-df-convert:hover {\n",
              "      background-color: #E2EBFA;\n",
              "      box-shadow: 0px 1px 2px rgba(60, 64, 67, 0.3), 0px 1px 3px 1px rgba(60, 64, 67, 0.15);\n",
              "      fill: #174EA6;\n",
              "    }\n",
              "\n",
              "    .colab-df-buttons div {\n",
              "      margin-bottom: 4px;\n",
              "    }\n",
              "\n",
              "    [theme=dark] .colab-df-convert {\n",
              "      background-color: #3B4455;\n",
              "      fill: #D2E3FC;\n",
              "    }\n",
              "\n",
              "    [theme=dark] .colab-df-convert:hover {\n",
              "      background-color: #434B5C;\n",
              "      box-shadow: 0px 1px 3px 1px rgba(0, 0, 0, 0.15);\n",
              "      filter: drop-shadow(0px 1px 2px rgba(0, 0, 0, 0.3));\n",
              "      fill: #FFFFFF;\n",
              "    }\n",
              "  </style>\n",
              "\n",
              "    <script>\n",
              "      const buttonEl =\n",
              "        document.querySelector('#df-35df8eec-a8d0-4f71-b52e-fc4aaa6bd0af button.colab-df-convert');\n",
              "      buttonEl.style.display =\n",
              "        google.colab.kernel.accessAllowed ? 'block' : 'none';\n",
              "\n",
              "      async function convertToInteractive(key) {\n",
              "        const element = document.querySelector('#df-35df8eec-a8d0-4f71-b52e-fc4aaa6bd0af');\n",
              "        const dataTable =\n",
              "          await google.colab.kernel.invokeFunction('convertToInteractive',\n",
              "                                                    [key], {});\n",
              "        if (!dataTable) return;\n",
              "\n",
              "        const docLinkHtml = 'Like what you see? Visit the ' +\n",
              "          '<a target=\"_blank\" href=https://colab.research.google.com/notebooks/data_table.ipynb>data table notebook</a>'\n",
              "          + ' to learn more about interactive tables.';\n",
              "        element.innerHTML = '';\n",
              "        dataTable['output_type'] = 'display_data';\n",
              "        await google.colab.output.renderOutput(dataTable, element);\n",
              "        const docLink = document.createElement('div');\n",
              "        docLink.innerHTML = docLinkHtml;\n",
              "        element.appendChild(docLink);\n",
              "      }\n",
              "    </script>\n",
              "  </div>\n",
              "\n",
              "\n",
              "    <div id=\"df-377576db-19be-42cd-bb44-fa61f5ebf194\">\n",
              "      <button class=\"colab-df-quickchart\" onclick=\"quickchart('df-377576db-19be-42cd-bb44-fa61f5ebf194')\"\n",
              "                title=\"Suggest charts\"\n",
              "                style=\"display:none;\">\n",
              "\n",
              "<svg xmlns=\"http://www.w3.org/2000/svg\" height=\"24px\"viewBox=\"0 0 24 24\"\n",
              "     width=\"24px\">\n",
              "    <g>\n",
              "        <path d=\"M19 3H5c-1.1 0-2 .9-2 2v14c0 1.1.9 2 2 2h14c1.1 0 2-.9 2-2V5c0-1.1-.9-2-2-2zM9 17H7v-7h2v7zm4 0h-2V7h2v10zm4 0h-2v-4h2v4z\"/>\n",
              "    </g>\n",
              "</svg>\n",
              "      </button>\n",
              "\n",
              "<style>\n",
              "  .colab-df-quickchart {\n",
              "      --bg-color: #E8F0FE;\n",
              "      --fill-color: #1967D2;\n",
              "      --hover-bg-color: #E2EBFA;\n",
              "      --hover-fill-color: #174EA6;\n",
              "      --disabled-fill-color: #AAA;\n",
              "      --disabled-bg-color: #DDD;\n",
              "  }\n",
              "\n",
              "  [theme=dark] .colab-df-quickchart {\n",
              "      --bg-color: #3B4455;\n",
              "      --fill-color: #D2E3FC;\n",
              "      --hover-bg-color: #434B5C;\n",
              "      --hover-fill-color: #FFFFFF;\n",
              "      --disabled-bg-color: #3B4455;\n",
              "      --disabled-fill-color: #666;\n",
              "  }\n",
              "\n",
              "  .colab-df-quickchart {\n",
              "    background-color: var(--bg-color);\n",
              "    border: none;\n",
              "    border-radius: 50%;\n",
              "    cursor: pointer;\n",
              "    display: none;\n",
              "    fill: var(--fill-color);\n",
              "    height: 32px;\n",
              "    padding: 0;\n",
              "    width: 32px;\n",
              "  }\n",
              "\n",
              "  .colab-df-quickchart:hover {\n",
              "    background-color: var(--hover-bg-color);\n",
              "    box-shadow: 0 1px 2px rgba(60, 64, 67, 0.3), 0 1px 3px 1px rgba(60, 64, 67, 0.15);\n",
              "    fill: var(--button-hover-fill-color);\n",
              "  }\n",
              "\n",
              "  .colab-df-quickchart-complete:disabled,\n",
              "  .colab-df-quickchart-complete:disabled:hover {\n",
              "    background-color: var(--disabled-bg-color);\n",
              "    fill: var(--disabled-fill-color);\n",
              "    box-shadow: none;\n",
              "  }\n",
              "\n",
              "  .colab-df-spinner {\n",
              "    border: 2px solid var(--fill-color);\n",
              "    border-color: transparent;\n",
              "    border-bottom-color: var(--fill-color);\n",
              "    animation:\n",
              "      spin 1s steps(1) infinite;\n",
              "  }\n",
              "\n",
              "  @keyframes spin {\n",
              "    0% {\n",
              "      border-color: transparent;\n",
              "      border-bottom-color: var(--fill-color);\n",
              "      border-left-color: var(--fill-color);\n",
              "    }\n",
              "    20% {\n",
              "      border-color: transparent;\n",
              "      border-left-color: var(--fill-color);\n",
              "      border-top-color: var(--fill-color);\n",
              "    }\n",
              "    30% {\n",
              "      border-color: transparent;\n",
              "      border-left-color: var(--fill-color);\n",
              "      border-top-color: var(--fill-color);\n",
              "      border-right-color: var(--fill-color);\n",
              "    }\n",
              "    40% {\n",
              "      border-color: transparent;\n",
              "      border-right-color: var(--fill-color);\n",
              "      border-top-color: var(--fill-color);\n",
              "    }\n",
              "    60% {\n",
              "      border-color: transparent;\n",
              "      border-right-color: var(--fill-color);\n",
              "    }\n",
              "    80% {\n",
              "      border-color: transparent;\n",
              "      border-right-color: var(--fill-color);\n",
              "      border-bottom-color: var(--fill-color);\n",
              "    }\n",
              "    90% {\n",
              "      border-color: transparent;\n",
              "      border-bottom-color: var(--fill-color);\n",
              "    }\n",
              "  }\n",
              "</style>\n",
              "\n",
              "      <script>\n",
              "        async function quickchart(key) {\n",
              "          const quickchartButtonEl =\n",
              "            document.querySelector('#' + key + ' button');\n",
              "          quickchartButtonEl.disabled = true;  // To prevent multiple clicks.\n",
              "          quickchartButtonEl.classList.add('colab-df-spinner');\n",
              "          try {\n",
              "            const charts = await google.colab.kernel.invokeFunction(\n",
              "                'suggestCharts', [key], {});\n",
              "          } catch (error) {\n",
              "            console.error('Error during call to suggestCharts:', error);\n",
              "          }\n",
              "          quickchartButtonEl.classList.remove('colab-df-spinner');\n",
              "          quickchartButtonEl.classList.add('colab-df-quickchart-complete');\n",
              "        }\n",
              "        (() => {\n",
              "          let quickchartButtonEl =\n",
              "            document.querySelector('#df-377576db-19be-42cd-bb44-fa61f5ebf194 button');\n",
              "          quickchartButtonEl.style.display =\n",
              "            google.colab.kernel.accessAllowed ? 'block' : 'none';\n",
              "        })();\n",
              "      </script>\n",
              "    </div>\n",
              "\n",
              "    </div>\n",
              "  </div>\n"
            ],
            "application/vnd.google.colaboratory.intrinsic+json": {
              "type": "dataframe",
              "summary": "{\n  \"name\": \"df[(df['BloodPressure'] < lower_bound) | (df['BloodPressure'] > upper_bound)]\",\n  \"rows\": 2,\n  \"fields\": [\n    {\n      \"column\": \"PatientID\",\n      \"properties\": {\n        \"dtype\": \"number\",\n        \"std\": 37,\n        \"min\": 30,\n        \"max\": 83,\n        \"num_unique_values\": 2,\n        \"samples\": [\n          30,\n          83\n        ],\n        \"semantic_type\": \"\",\n        \"description\": \"\"\n      }\n    },\n    {\n      \"column\": \"Gender\",\n      \"properties\": {\n        \"dtype\": \"string\",\n        \"num_unique_values\": 2,\n        \"samples\": [\n          \"Female\",\n          \"Male\"\n        ],\n        \"semantic_type\": \"\",\n        \"description\": \"\"\n      }\n    },\n    {\n      \"column\": \"Age\",\n      \"properties\": {\n        \"dtype\": \"number\",\n        \"std\": 9,\n        \"min\": 60,\n        \"max\": 74,\n        \"num_unique_values\": 2,\n        \"samples\": [\n          60,\n          74\n        ],\n        \"semantic_type\": \"\",\n        \"description\": \"\"\n      }\n    },\n    {\n      \"column\": \"CholesterolLevel\",\n      \"properties\": {\n        \"dtype\": \"number\",\n        \"std\": 26.16295090390226,\n        \"min\": 197.8,\n        \"max\": 234.8,\n        \"num_unique_values\": 2,\n        \"samples\": [\n          197.8,\n          234.8\n        ],\n        \"semantic_type\": \"\",\n        \"description\": \"\"\n      }\n    },\n    {\n      \"column\": \"BloodPressure\",\n      \"properties\": {\n        \"dtype\": \"number\",\n        \"std\": 75.23616151824866,\n        \"min\": 71.4,\n        \"max\": 177.8,\n        \"num_unique_values\": 2,\n        \"samples\": [\n          177.8,\n          71.4\n        ],\n        \"semantic_type\": \"\",\n        \"description\": \"\"\n      }\n    },\n    {\n      \"column\": \"Region\",\n      \"properties\": {\n        \"dtype\": \"string\",\n        \"num_unique_values\": 2,\n        \"samples\": [\n          \"South\",\n          \"North\"\n        ],\n        \"semantic_type\": \"\",\n        \"description\": \"\"\n      }\n    },\n    {\n      \"column\": \"RiskCategory\",\n      \"properties\": {\n        \"dtype\": \"string\",\n        \"num_unique_values\": 2,\n        \"samples\": [\n          \"High\",\n          \"Medium\"\n        ],\n        \"semantic_type\": \"\",\n        \"description\": \"\"\n      }\n    }\n  ]\n}"
            }
          },
          "metadata": {},
          "execution_count": 42
        }
      ]
    },
    {
      "cell_type": "markdown",
      "source": [
        "## USING Z SCORE METHOD"
      ],
      "metadata": {
        "id": "SPpVCMHdb9er"
      }
    },
    {
      "cell_type": "code",
      "source": [
        "# finding out liers using z score\n",
        "import numpy as np\n",
        "treshold = 3\n",
        "mean = df['BloodPressure'].mean()\n",
        "std = df['BloodPressure'].std()\n",
        "print(mean)\n",
        "print(std)\n",
        "for i in df['BloodPressure']:\n",
        "    z = (i-mean)/std\n",
        "    if np.abs(z) > treshold:\n",
        "        print(i)\n"
      ],
      "metadata": {
        "colab": {
          "base_uri": "https://localhost:8080/"
        },
        "id": "RyWl7Nyib9IG",
        "outputId": "c07a79ec-d370-4408-a281-010cd23521d6"
      },
      "execution_count": 43,
      "outputs": [
        {
          "output_type": "stream",
          "name": "stdout",
          "text": [
            "119.854\n",
            "15.834729890562414\n",
            "71.4\n",
            "177.8\n"
          ]
        }
      ]
    },
    {
      "cell_type": "markdown",
      "source": [
        "## Question 2 (PART A)\n",
        "\n"
      ],
      "metadata": {
        "id": "c-YBimWHjMs_"
      }
    },
    {
      "cell_type": "code",
      "source": [
        "#calculate mean of 20 sample chelosterollevel\n",
        "df['CholesterolLevel'].sample(20).mean()"
      ],
      "metadata": {
        "colab": {
          "base_uri": "https://localhost:8080/"
        },
        "id": "oE5dDQThjtYR",
        "outputId": "8ecbfee8-b69c-4234-8f91-4ad0c0a6ddb0"
      },
      "execution_count": 45,
      "outputs": [
        {
          "output_type": "execute_result",
          "data": {
            "text/plain": [
              "np.float64(204.51500000000001)"
            ]
          },
          "metadata": {},
          "execution_count": 45
        }
      ]
    },
    {
      "cell_type": "code",
      "source": [
        "# perfoming t test on sample mean and mean\n",
        "ttest, pvalue = scipy.stats.ttest_1samp(df['CholesterolLevel'].sample(20), 195)\n",
        "print(ttest,pvalue)"
      ],
      "metadata": {
        "colab": {
          "base_uri": "https://localhost:8080/"
        },
        "id": "trr8BW4unTbn",
        "outputId": "07916f6f-4ce1-496d-a91d-84892b6780eb"
      },
      "execution_count": 46,
      "outputs": [
        {
          "output_type": "stream",
          "name": "stdout",
          "text": [
            "-0.36480688059506877 0.7192845474658457\n"
          ]
        }
      ]
    },
    {
      "cell_type": "code",
      "source": [
        "critical_value = scipy.stats.t.ppf(1-(0.05/2), 19)\n",
        "print(critical_value)"
      ],
      "metadata": {
        "colab": {
          "base_uri": "https://localhost:8080/"
        },
        "id": "gHdx3eeboLIT",
        "outputId": "7a0cfc5c-a8cc-4a14-d548-cc6ed02cbb37"
      },
      "execution_count": 47,
      "outputs": [
        {
          "output_type": "stream",
          "name": "stdout",
          "text": [
            "2.093024054408263\n"
          ]
        }
      ]
    },
    {
      "cell_type": "code",
      "source": [
        "if np.abs(ttest) > np.abs(critical_value):\n",
        "    print(\"Reject null hypothesis\")\n",
        "else:\n",
        "    print(\"Accept null hypothesis\")"
      ],
      "metadata": {
        "colab": {
          "base_uri": "https://localhost:8080/"
        },
        "id": "IOKBMk7nowg-",
        "outputId": "eeea3ec6-953a-4aa1-f923-a13b5a9116fe"
      },
      "execution_count": 48,
      "outputs": [
        {
          "output_type": "stream",
          "name": "stdout",
          "text": [
            "Accept null hypothesis\n"
          ]
        }
      ]
    },
    {
      "cell_type": "code",
      "source": [
        "if pvalue < 0.05:\n",
        "    print(\"Reject null hypothesis\")\n",
        "else:\n",
        "    print(\"Accept null hypothesis\")"
      ],
      "metadata": {
        "colab": {
          "base_uri": "https://localhost:8080/"
        },
        "id": "Apb3dzC1pBSW",
        "outputId": "634bad4a-e174-473a-eec5-fd18e05b4066"
      },
      "execution_count": 49,
      "outputs": [
        {
          "output_type": "stream",
          "name": "stdout",
          "text": [
            "Accept null hypothesis\n"
          ]
        }
      ]
    },
    {
      "cell_type": "markdown",
      "source": [
        "## QUESTION 2 (PART B)\n"
      ],
      "metadata": {
        "id": "Tl0voABafSrM"
      }
    },
    {
      "cell_type": "code",
      "source": [
        "original_values = pd.crosstab(df['Gender'], df['RiskCategory'])\n",
        "original_values\n",
        "\n",
        "chi2, p, dof, expected = chi2_contingency(original_values)\n",
        "print(chi2, p, dof, expected)\n"
      ],
      "metadata": {
        "colab": {
          "base_uri": "https://localhost:8080/"
        },
        "id": "daRmyMyGb7wM",
        "outputId": "705a93eb-a6ef-4a61-eb6f-c628cbe39794"
      },
      "execution_count": 56,
      "outputs": [
        {
          "output_type": "stream",
          "name": "stdout",
          "text": [
            "1.2769946980473286 0.5280853561197303 2 [[14.   20.72 21.28]\n",
            " [11.   16.28 16.72]]\n"
          ]
        }
      ]
    },
    {
      "cell_type": "code",
      "source": [
        "if p < 0.05:\n",
        "    print(\"Reject null hypothesis\")\n",
        "else:\n",
        "    print(\"Accept null hypothesis\")"
      ],
      "metadata": {
        "colab": {
          "base_uri": "https://localhost:8080/"
        },
        "id": "nxzw-WAzpq-_",
        "outputId": "8571a490-4907-4ca5-b75d-478560f13dcb"
      },
      "execution_count": 57,
      "outputs": [
        {
          "output_type": "stream",
          "name": "stdout",
          "text": [
            "Accept null hypothesis\n"
          ]
        }
      ]
    },
    {
      "cell_type": "code",
      "source": [
        "alpha = 0.05\n",
        "critical_value = scipy.stats.chi2.ppf(1-alpha, dof)\n",
        "print(critical_value)"
      ],
      "metadata": {
        "colab": {
          "base_uri": "https://localhost:8080/"
        },
        "id": "IHKfhD3dp8Q3",
        "outputId": "74aad025-99b2-4cbc-ffa6-dc4f9930df0b"
      },
      "execution_count": 58,
      "outputs": [
        {
          "output_type": "stream",
          "name": "stdout",
          "text": [
            "5.991464547107979\n"
          ]
        }
      ]
    },
    {
      "cell_type": "code",
      "source": [
        "if chi2 > critical_value:\n",
        "    print(\"Reject null hypothesis\")\n",
        "else:\n",
        "    print(\"Accept null hypothesis\")"
      ],
      "metadata": {
        "colab": {
          "base_uri": "https://localhost:8080/"
        },
        "id": "1U4WHlTJquM1",
        "outputId": "d7b48e89-6bd6-48ba-d9b5-ed860717afe8"
      },
      "execution_count": 59,
      "outputs": [
        {
          "output_type": "stream",
          "name": "stdout",
          "text": [
            "Accept null hypothesis\n"
          ]
        }
      ]
    },
    {
      "cell_type": "markdown",
      "source": [
        "# QUESTION 3"
      ],
      "metadata": {
        "id": "t3_3Tqpl02k7"
      }
    },
    {
      "cell_type": "code",
      "source": [
        "# 1. Import required libraries.\n",
        "from scipy.integrate import odeint\n",
        "import matplotlib.pyplot as plt\n",
        "import numpy as np"
      ],
      "metadata": {
        "id": "6hg8Ns6d03k-"
      },
      "execution_count": 51,
      "outputs": []
    },
    {
      "cell_type": "code",
      "source": [
        "# 2. Define a simple first-order ODE: dy/dt = -2y + 1\n",
        "from scipy.integrate import odeint\n",
        "from scipy.integrate import solve_ivp\n",
        "import matplotlib.pyplot as plt\n",
        "import numpy as np\n",
        "import scipy.integrate"
      ],
      "metadata": {
        "id": "jqwS4ydp08vZ"
      },
      "execution_count": 52,
      "outputs": []
    },
    {
      "cell_type": "code",
      "source": [
        "# Parameters\n",
        "k = 0.05\n",
        "D = 120\n",
        "\n",
        "# ODE function\n",
        "def dCdt(C, t):\n",
        "    return k * (D - C)\n",
        "\n",
        "# Initial condition\n",
        "C0 = 0\n",
        "\n",
        "# Time values\n",
        "t = np.linspace(0, 100, 200)  # from t=0 to t=100, 200 points\n",
        "\n",
        "# Solve ODE\n",
        "C = odeint(dCdt, C0, t)\n",
        "\n",
        "# Plot\n",
        "plt.plot(t, C, label='Drug Concentration')\n",
        "plt.axhline(D, color='r', linestyle='--', label='Max Concentration (D)')\n",
        "plt.xlabel('Time')\n",
        "plt.ylabel('Concentration C(t)')\n",
        "plt.title('Drug Concentration in Bloodstream Over Time')\n",
        "plt.legend()\n",
        "plt.grid(True)\n",
        "plt.show()"
      ],
      "metadata": {
        "id": "FhBc9rNx0_0K",
        "colab": {
          "base_uri": "https://localhost:8080/",
          "height": 472
        },
        "outputId": "6e763d05-0bf7-48ef-9a86-a7128497d730"
      },
      "execution_count": 60,
      "outputs": [
        {
          "output_type": "display_data",
          "data": {
            "text/plain": [
              "<Figure size 640x480 with 1 Axes>"
            ],
            "image/png": "[encoded data removed]"
          },
          "metadata": {}
        }
      ]
    }
  ]
}